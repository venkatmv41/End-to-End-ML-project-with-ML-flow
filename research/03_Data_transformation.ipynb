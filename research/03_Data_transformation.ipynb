{
 "cells": [
  {
   "cell_type": "code",
   "execution_count": 10,
   "id": "b15ed89b",
   "metadata": {},
   "outputs": [
    {
     "data": {
      "text/plain": [
       "'d:\\\\MV\\\\SWCODES\\\\PYTHON_RELATED\\\\MLOPS\\\\End-to-End-ML-project-with-ML-flow\\\\research'"
      ]
     },
     "execution_count": 10,
     "metadata": {},
     "output_type": "execute_result"
    }
   ],
   "source": [
    "import os\n",
    "\n",
    "%pwd\n"
   ]
  },
  {
   "cell_type": "code",
   "execution_count": 11,
   "id": "4eca09bb",
   "metadata": {},
   "outputs": [],
   "source": [
    "#always chnage directory before runnin this notebook\n",
    "os.chdir('../')\n"
   ]
  },
  {
   "cell_type": "code",
   "execution_count": 12,
   "id": "a88dad09",
   "metadata": {},
   "outputs": [
    {
     "data": {
      "text/plain": [
       "'d:\\\\MV\\\\SWCODES\\\\PYTHON_RELATED\\\\MLOPS\\\\End-to-End-ML-project-with-ML-flow'"
      ]
     },
     "execution_count": 12,
     "metadata": {},
     "output_type": "execute_result"
    }
   ],
   "source": [
    "pwd"
   ]
  },
  {
   "cell_type": "code",
   "execution_count": 13,
   "id": "c933c8f7",
   "metadata": {},
   "outputs": [],
   "source": [
    "from dataclasses import dataclass\n",
    "from pathlib import Path\n",
    "\n",
    "@dataclass(frozen=True)\n",
    "class DataTransformationConfig:\n",
    "    root_dir: Path\n",
    "    data_path : Path\n"
   ]
  },
  {
   "cell_type": "code",
   "execution_count": 14,
   "id": "934873f8",
   "metadata": {},
   "outputs": [],
   "source": [
    "from MLproject.constants import *\n",
    "from MLproject.utils.common import read_yaml,create_directories\n",
    " "
   ]
  },
  {
   "cell_type": "code",
   "execution_count": 15,
   "id": "54ac73fd",
   "metadata": {},
   "outputs": [],
   "source": [
    "class ConfigurationManager:\n",
    "    def __init__(\n",
    "            self,\n",
    "            config_filepath = CONFIG_FILE_PATH,\n",
    "            params_filepath = PARAMS_FILE_PATH,\n",
    "            schema_filepath = SCHEMA_FILE_PATH):\n",
    "\n",
    "            self.config = read_yaml(config_filepath)\n",
    "            self.params = read_yaml(params_filepath)\n",
    "            self.schema = read_yaml(schema_filepath)\n",
    "\n",
    "            create_directories([self.config.artifacts_root])\n",
    "\n",
    "    def get_data_transformation_config(self) -> DataTransformationConfig:\n",
    "      config = self.config.data_transformation\n",
    "\n",
    "      create_directories([config.root_dir])\n",
    "\n",
    "      data_transformation_config = DataTransformationConfig(\n",
    "      root_dir=config.root_dir,\n",
    "      data_path=config.data_path\n",
    "      )\n",
    "\n",
    "\n",
    "      return data_transformation_config"
   ]
  },
  {
   "cell_type": "code",
   "execution_count": 16,
   "id": "910d7a95",
   "metadata": {},
   "outputs": [],
   "source": [
    "import os\n",
    "from MLproject import logger\n",
    "from sklearn.model_selection import train_test_split\n",
    "import pandas as pd"
   ]
  },
  {
   "cell_type": "code",
   "execution_count": 17,
   "id": "8d0de08f",
   "metadata": {},
   "outputs": [],
   "source": [
    "class DataTransformation:\n",
    "    def __init__(self,config:DataTransformationConfig):\n",
    "        self.config = config\n",
    "\n",
    "    def train_test_splitting(self):\n",
    "        data = pd.read_csv(self.config.data_path)\n",
    "\n",
    "        train,test = train_test_split(data)\n",
    "        train.to_csv(os.path.join(self.config.root_dir,\"train.csv\"),index = False) \n",
    "        test.to_csv(os.path.join(self.config.root_dir,\"test.csv\"),index = False)\n",
    "\n",
    "        logger.info(\"splitted data into training and testing\")\n",
    "        logger.info(train.shape)     \n",
    "        logger.info(test.shape)     "
   ]
  },
  {
   "cell_type": "code",
   "execution_count": 22,
   "id": "25ff8e18",
   "metadata": {},
   "outputs": [
    {
     "name": "stdout",
     "output_type": "stream",
     "text": [
      "[2025-05-20 23:44:28,052: INFO: common: yaml file: config\\config.yaml loaded successfully]\n",
      "[2025-05-20 23:44:28,060: INFO: common: yaml file: params.yaml loaded successfully]\n",
      "[2025-05-20 23:44:28,068: INFO: common: yaml file: schema.yaml loaded successfully]\n",
      "[2025-05-20 23:44:28,068: INFO: common: created directory at: artifacts]\n",
      "[2025-05-20 23:44:28,068: INFO: common: created directory at: artifacts/data_transformation]\n"
     ]
    },
    {
     "name": "stdout",
     "output_type": "stream",
     "text": [
      "[2025-05-20 23:44:28,229: INFO: 236585131: splitted data into training and testing]\n",
      "[2025-05-20 23:44:28,229: INFO: 236585131: (1199, 12)]\n",
      "[2025-05-20 23:44:28,237: INFO: 236585131: (400, 12)]\n"
     ]
    }
   ],
   "source": [
    "try:\n",
    "    config = ConfigurationManager()\n",
    "    data_transformation_config  = config.get_data_transformation_config()\n",
    "    data_transformation = DataTransformation(config=data_transformation_config)\n",
    "    data_transformation.train_test_splitting()\n",
    "    \n",
    "except Exception as e:\n",
    "    raise e"
   ]
  }
 ],
 "metadata": {
  "kernelspec": {
   "display_name": "Python 3",
   "language": "python",
   "name": "python3"
  },
  "language_info": {
   "codemirror_mode": {
    "name": "ipython",
    "version": 3
   },
   "file_extension": ".py",
   "mimetype": "text/x-python",
   "name": "python",
   "nbconvert_exporter": "python",
   "pygments_lexer": "ipython3",
   "version": "3.11.4"
  }
 },
 "nbformat": 4,
 "nbformat_minor": 5
}
